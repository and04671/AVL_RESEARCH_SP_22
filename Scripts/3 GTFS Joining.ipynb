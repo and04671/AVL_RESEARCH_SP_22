{
 "cells": [
  {
   "cell_type": "markdown",
   "metadata": {},
   "source": [
    "### Imports"
   ]
  },
  {
   "cell_type": "code",
   "execution_count": 1,
   "metadata": {},
   "outputs": [],
   "source": [
    "import pandas as pd\n",
    "import os\n",
    "#import geopandas as gp\n",
    "\n",
    "# Set the workspace environment to master folder\n",
    "x=os.chdir('C:\\\\Users\\\\Cole\\\\Desktop\\\\Spring2022\\\\AVLResearch')"
   ]
  },
  {
   "cell_type": "markdown",
   "metadata": {},
   "source": [
    "### Define the GTFS inputs"
   ]
  },
  {
   "cell_type": "code",
   "execution_count": 2,
   "metadata": {},
   "outputs": [],
   "source": [
    "#works\n",
    "trips_txt = pd.read_csv(\"Data/GTFSoct1/trips.txt\", index_col = False)\n",
    "shapes_txt = pd.read_csv(\"Data/GTFSoct1/shapes.txt\", index_col = False)\n",
    "stop_times_txt= pd.read_csv(\"Data/GTFSoct1/stop_times.txt\", index_col = False)\n",
    "stops_txt= pd.read_csv(\"Data/GTFSoct1/stops.txt\", index_col = False)\n",
    "calendar_txt= pd.read_csv(\"Data/GTFSoct1/calendar.txt\", index_col = False)\n",
    "calendar_dates_txt= pd.read_csv(\"Data/GTFSoct1/calendar_dates.txt\", index_col = False)"
   ]
  },
  {
   "cell_type": "markdown",
   "metadata": {},
   "source": [
    "### Query route (calendar query)"
   ]
  },
  {
   "cell_type": "code",
   "execution_count": 3,
   "metadata": {},
   "outputs": [],
   "source": [
    "#find the route ID for the route name you want\n",
    "routes_txt = pd.read_csv(\"Data/GTFSoct1/routes.txt\")\n",
    "route_name = 'A Line'\n",
    "route_row = routes_txt.loc[routes_txt['route_short_name'] == route_name]\n",
    "route_row.to_csv('Data/GTFS_Query/routes_select.txt')\n",
    "#find the service_ids for cal rows you want\n",
    "cal_select = calendar_txt.loc[calendar_txt['service_id'].isin(['AUG16-MVS-BUS-Weekday-01',\n",
    "                                                               'AUG16-MVS-BUS-Saturday-01',\n",
    "                                                               'AUG16-MVS-BUS-Sunday-01'])] \n",
    "cal_select.to_csv('Data/GTFS_Query/cal_select.txt', index=False )"
   ]
  },
  {
   "cell_type": "markdown",
   "metadata": {},
   "source": [
    "### Carry query through "
   ]
  },
  {
   "cell_type": "code",
   "execution_count": 4,
   "metadata": {},
   "outputs": [],
   "source": [
    "#select trips using calendar_select and route_select\n",
    "trips_select_pre = trips_txt[trips_txt[\"route_id\"] == \"921-95\"]\n",
    "trips_select = pd.merge(cal_select, trips_select_pre, how = 'left', on = 'service_id')\n",
    "trips_select = trips_select[['route_id',\n",
    "                             'service_id',\n",
    "                             'trip_id',\n",
    "                             'trip_headsign',\n",
    "                             'direction_id',\n",
    "                             'shape_id']]\n",
    "trips_select.to_csv('Data/GTFS_Query/trips_select.txt', header=1, index=False  )"
   ]
  },
  {
   "cell_type": "code",
   "execution_count": 5,
   "metadata": {},
   "outputs": [],
   "source": [
    "#select shape to trip on shape_id\n",
    "shapes_select = pd.merge(trips_select,shapes_txt, how = \"left\", on = \"shape_id\")\n",
    "shapes_select = shapes_select[['route_id',\n",
    "                              'trip_id',\n",
    "                              'service_id',\n",
    "                              'trip_headsign',\n",
    "                              'shape_id',\n",
    "                              'shape_pt_lat',\n",
    "                              'shape_pt_lon',\n",
    "                              'shape_pt_sequence']]\n",
    "shapes_select.to_csv('Data/GTFS_Query/shapes_select.txt', header=1, index=False  )"
   ]
  },
  {
   "cell_type": "code",
   "execution_count": 7,
   "metadata": {},
   "outputs": [],
   "source": [
    "#select stoptimes to trip on trip_id\n",
    "stop_times_select = pd.merge(trips_select,stop_times_txt, how = \"left\", on = \"trip_id\")\n",
    "stop_times_select = stop_times_select[['route_id',\n",
    "                                       'trip_id',\n",
    "                                       'service_id',\n",
    "                                       'trip_headsign',\n",
    "                                       'shape_id',\n",
    "                                       'arrival_time',\n",
    "                                       'departure_time',\n",
    "                                       'stop_id',\n",
    "                                       'stop_sequence']]\n",
    "#stop_times_select = stop_times_select.drop(stop_times_select.columns[:8], axis=1)\n",
    "#stop_times_select\n",
    "stop_times_select.to_csv('Data/GTFS_Query/stop_times_select.txt', header=1, index=False )"
   ]
  },
  {
   "cell_type": "code",
   "execution_count": 12,
   "metadata": {},
   "outputs": [],
   "source": [
    "#select just stop locations by stop_id\n",
    "stops_select = pd.merge(stop_times_select,stops_txt, how = \"left\", on = \"stop_id\")\n",
    "stops_select = stops_select.drop_duplicates(subset='stop_id', keep=\"first\")\n",
    "stops_select = stops_select[['stop_id',\n",
    "                             'stop_name',\n",
    "                             'stop_desc',\n",
    "                             'stop_lat',\n",
    "                             'stop_lon',\n",
    "                             'stop_sequence']] \n",
    "stops_select\n",
    "stops_select.to_csv('Data/GTFS_Query/stops_select.txt', header=1, index=False  )"
   ]
  }
 ],
 "metadata": {
  "kernelspec": {
   "display_name": "Python 3 (ipykernel)",
   "language": "python",
   "name": "python3"
  },
  "language_info": {
   "codemirror_mode": {
    "name": "ipython",
    "version": 3
   },
   "file_extension": ".py",
   "mimetype": "text/x-python",
   "name": "python",
   "nbconvert_exporter": "python",
   "pygments_lexer": "ipython3",
   "version": "3.7.3"
  }
 },
 "nbformat": 4,
 "nbformat_minor": 4
}
