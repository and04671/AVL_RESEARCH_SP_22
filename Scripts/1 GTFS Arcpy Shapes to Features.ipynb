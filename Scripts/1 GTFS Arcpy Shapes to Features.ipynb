{
 "cells": [
  {
   "cell_type": "markdown",
   "metadata": {},
   "source": [
    "## This top cell is the correct one"
   ]
  },
  {
   "cell_type": "code",
   "execution_count": null,
   "metadata": {},
   "outputs": [],
   "source": [
    "#GTFSShapesToFeatures_conversion Test\n",
    "import arcpy\n",
    "shapes = r'C:/Users/Cole/Desktop/Spring2022/AVLResearch/Data/GTFS/oct1/shapes.txt'\n",
    "outclass = 'C:/Users/Cole/Desktop/Spring2022/AVLResearch/Testing.gdb/GTFSShapesToFeatures'\n",
    "arcpy.conversion.GTFSShapesToFeatures(shapes, outclass)\n",
    "\n",
    "#This seems to create a polyline set of existing shapes simply from a shapes.txt file"
   ]
  },
  {
   "cell_type": "markdown",
   "metadata": {},
   "source": [
    "## Tested, not ideal"
   ]
  },
  {
   "cell_type": "code",
   "execution_count": null,
   "metadata": {},
   "outputs": [],
   "source": [
    "#GenerateShapesFeaturesFromGTFS_conversion Test\n",
    "GTFSFolder = r'C:/Users/Cole/Desktop/Spring2022/AVLResearch/Data/GTFS/oct1NoShapes'\n",
    "outshapes = r'C:/Users/Cole/Desktop/Spring2022/AVLResearch/Testing.gdb/outshapes'\n",
    "outstops = r'C:/Users/Cole/Desktop/Spring2022/AVLResearch/Testing.gdb/outstops'\n",
    "outtrips =r'C:/Users/Cole/Desktop/Spring2022/AVLResearch/Data/outtrips.txt'\n",
    "arcpy.conversion.GenerateShapesFeaturesFromGTFS(GTFSFolder, outshapes, outstops, outtrips,[])\n",
    "\n",
    "\n",
    "#You seem to be able to generate straight lines OR along a network with this tool \n",
    "#(although without the network there are some straight and bent). \n",
    "#Also creates transit stop layout\n",
    "\n",
    "#FeaturesToGTFSShapes Test\n",
    "inshapes = r'C:/Users/Cole/Desktop/Spring2022/AVLResearch/Testing.gdb/outshapes'\n",
    "instops = r'C:/Users/Cole/Desktop/Spring2022/AVLResearch/Testing.gdb/outstops'\n",
    "intrips =r'C:/Users/Cole/Desktop/Spring2022/AVLResearch/Data/outtrips.txt'\n",
    "# above 3 are outputs of the previous tool, GenerateShapesFeaturesFromGTFS\n",
    "\n",
    "OriginalStopTimes = r'C:/Users/Cole/Desktop/Spring2022/AVLResearch/Data/GTFS/oct1/stop_times.txt'\n",
    "#this is the original stop times file from the base GTFS set\n",
    "\n",
    "\n",
    "NewShapes = r'C:/Users/Cole/Desktop/Spring2022/AVLResearch/Data/shapes_new.txt'\n",
    "NewStopTimes = r'C:/Users/Cole/Desktop/Spring2022/AVLResearch/Data/stop_times_new.txt'\n",
    "\n",
    "arcpy.conversion.FeaturesToGTFSShapes(inshapes, instops, intrips, OriginalStopTimes, NewShapes, NewStopTimes, 'METERS')"
   ]
  }
 ],
 "metadata": {
  "kernelspec": {
   "display_name": "Python 3 (ipykernel)",
   "language": "python",
   "name": "python3"
  },
  "language_info": {
   "codemirror_mode": {
    "name": "ipython",
    "version": 3
   },
   "file_extension": ".py",
   "mimetype": "text/x-python",
   "name": "python",
   "nbconvert_exporter": "python",
   "pygments_lexer": "ipython3",
   "version": "3.7.3"
  }
 },
 "nbformat": 4,
 "nbformat_minor": 4
}
