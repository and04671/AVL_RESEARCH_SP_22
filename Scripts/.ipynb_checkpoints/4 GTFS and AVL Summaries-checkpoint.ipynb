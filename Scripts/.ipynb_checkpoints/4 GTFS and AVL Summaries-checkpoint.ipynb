{
 "cells": [
  {
   "cell_type": "markdown",
   "id": "69be05fa",
   "metadata": {},
   "source": [
    "# GTFS and AVL Summary Tables"
   ]
  },
  {
   "cell_type": "code",
   "execution_count": null,
   "id": "741f77f8",
   "metadata": {},
   "outputs": [],
   "source": [
    "import pandas as pd\n",
    "import os\n",
    "import numpy as np\n",
    "# Set the workspace environment to master folder\n",
    "x=os.chdir('C:\\\\Users\\\\Cole\\\\Desktop\\\\Spring2022\\\\AVLResearch')"
   ]
  },
  {
   "cell_type": "markdown",
   "id": "10e7eada",
   "metadata": {},
   "source": [
    "## GTFS - gives start/end time for each trip, each day (no bus info)"
   ]
  },
  {
   "cell_type": "code",
   "execution_count": null,
   "id": "2492b006",
   "metadata": {},
   "outputs": [],
   "source": [
    "#open the outputs from GTFS Joining(PANDAS)\n",
    "calendar = pd.read_csv('Data\\\\GTFS_Query\\\\cal_select.txt', index_col = False)\n",
    "routes = pd.read_csv('Data\\\\GTFS_Query\\\\routes_select.txt', index_col = False)\n",
    "shapes = pd.read_csv('Data\\\\GTFS_Query\\\\shapes_select.txt', index_col = False)\n",
    "stop_times= pd.read_csv('Data\\\\GTFS_Query\\\\stop_times_select.txt', index_col = False)\n",
    "stops = pd.read_csv('Data\\\\GTFS_Query\\\\stops_select.txt', index_col = False)\n",
    "trips = pd.read_csv('Data\\\\GTFS_Query\\\\trips_select.txt', index_col = False)"
   ]
  },
  {
   "cell_type": "code",
   "execution_count": null,
   "id": "fb950961",
   "metadata": {},
   "outputs": [],
   "source": [
    "#should give you stop times w/ stop locations for each trip\n",
    "add_trip_stop_times = pd.merge(stop_times,trips,how = 'left', on = ['trip_id','route_id','service_id', 'trip_headsign','shape_id'])"
   ]
  },
  {
   "cell_type": "code",
   "execution_count": null,
   "id": "a2bcedb7",
   "metadata": {},
   "outputs": [],
   "source": [
    "#error happens here? Fixed: left to outer join\n",
    "add_trip_stops = pd.merge(add_trip_stop_times,stops, how = 'outer', on = ['stop_id'])\n",
    "#add_trip_stops.to_csv(r\"C:\\Users\\Cole\\Desktop\\Spring2022\\AVLResearch\\Data\\ProcessedAVL_GTFS\\Test.csv\", index = False)\n",
    "\n",
    "add_trip_stops = add_trip_stops.sort_values(by =['trip_id', 'stop_sequence_x'])\n",
    "add_trip_stops.to_csv(r\"C:\\Users\\Cole\\Desktop\\Spring2022\\AVLResearch\\Data\\ProcessedAVL_GTFS\\Test.csv\", index = False)\n",
    "add_trip_stops"
   ]
  },
  {
   "cell_type": "code",
   "execution_count": null,
   "id": "2bab43fd",
   "metadata": {},
   "outputs": [],
   "source": [
    "add_trip_stops['SERV_DAY'] = add_trip_stops['trip_id'].str[22:-3]\n",
    "for index in range(len(add_trip_stops)):\n",
    "    if 'Northbound' in add_trip_stops.loc[index,'trip_headsign']:\n",
    "        add_trip_stops.loc[index,'dir_sign'] = 4\n",
    "    if 'Southbound' in add_trip_stops.loc[index,'trip_headsign']:\n",
    "        add_trip_stops.loc[index,'dir_sign'] = 1\n",
    "GTFSSum = add_trip_stops.replace({np.nan: None})\n",
    "#GTFSSum.to_csv(r\"C:\\Users\\Cole\\Desktop\\Spring2022\\AVLResearch\\Data\\ProcessedAVL_GTFS\\Test.csv\", index = False)"
   ]
  },
  {
   "cell_type": "code",
   "execution_count": null,
   "id": "2bf33938",
   "metadata": {},
   "outputs": [],
   "source": [
    "groupedtrips = GTFSSum.groupby(\"trip_id\",sort=True)\n",
    "for group in groupedtrips:\n",
    "    a = groupedtrips.head(1)\n",
    "    b = groupedtrips.tail(1)"
   ]
  },
  {
   "cell_type": "code",
   "execution_count": null,
   "id": "02906298",
   "metadata": {},
   "outputs": [],
   "source": [
    "final = pd.merge(a,b, on= 'trip_id',suffixes = ('_start','_end'))\n",
    "sumtableGTFS = final[['trip_id',\n",
    "                     'service_id_start',\n",
    "                     'trip_headsign_start',\n",
    "                      'dir_sign_start',\n",
    "                      'SERV_DAY_start',\n",
    "                     \n",
    "                     'stop_lat_start',\n",
    "                      'stop_lon_start',\n",
    "                      'arrival_time_start',\n",
    "                      'departure_time_start',\n",
    "                     'stop_id_start',\n",
    "                     'stop_name_start',\n",
    "                     'stop_desc_start',\n",
    "                     \n",
    "                      'stop_lat_end',\n",
    "                      'stop_lon_end',\n",
    "                      'arrival_time_end',\n",
    "                      'departure_time_end',\n",
    "                     'stop_id_end',\n",
    "                     'stop_name_end',\n",
    "                     'stop_desc_end'\n",
    "                     ]]\n",
    "sumtableGTFS= sumtableGTFS.sort_values(['service_id_start', 'dir_sign_start','arrival_time_start'])\n",
    "sumtableGTFS.to_csv(r\"C:\\Users\\Cole\\Desktop\\Spring2022\\AVLResearch\\Data\\ProcessedAVL_GTFS\\GTFS_Trips.csv\", index = False)\n",
    "#nice, in service ID, direction, trio arrangement"
   ]
  },
  {
   "cell_type": "markdown",
   "id": "04688601",
   "metadata": {},
   "source": [
    "## AVL - proof table"
   ]
  },
  {
   "cell_type": "code",
   "execution_count": null,
   "id": "866376e4",
   "metadata": {},
   "outputs": [],
   "source": [
    "import pandas as pd\n",
    "import numpy as np\n",
    "from datetime import datetime, tzinfo\n",
    "from dateutil import tz\n",
    "import pytz\n",
    "dataPath = \"C:\\\\Users\\Cole\\Desktop\\Spring2022\\AVLResearch\\Data\\Aline-vehicle-messages-Oct1_Oct8_2016\\Aline-vehicle-messages-Oct1_Oct8-2016.csv\"\n",
    "dataFrame = pd.read_csv(dataPath)\n",
    "avl_messages = dataFrame[[\"CALENDAR_ID\",\n",
    "                          \"MESSAGE_TIMESTAMP\",\n",
    "                          \"LOCAL_TIMESTAMP\",\n",
    "                          \"SOURCE_HOST\",\n",
    "                          \"ROUTE_ABBR\",\n",
    "                          \"DIRECTION\",\n",
    "                          \"LONGITUDE\",\n",
    "                          \"LATITUDE\"]]\n",
    "newframe = avl_messages.replace({np.nan: None})\n",
    "newframe"
   ]
  },
  {
   "cell_type": "code",
   "execution_count": null,
   "id": "f7feeabd",
   "metadata": {},
   "outputs": [],
   "source": [
    "#Fix local_time for each row in AVL full data \n",
    "for index in range(len(newframe)):\n",
    "    try:\n",
    "        dt_str = newframe.loc[index, 'LOCAL_TIMESTAMP']\n",
    "        dt_str1 = dt_str.replace('T',\"\").replace('Z',\"\")\n",
    "        t3 = datetime.strptime(dt_str1,\"%Y-%m-%d%H:%M:%S.%f\")\n",
    "        newframe.loc[index,'TIME'] = t3\n",
    "    except:\n",
    "        pass"
   ]
  },
  {
   "cell_type": "markdown",
   "id": "36f7e2f7",
   "metadata": {},
   "source": [
    "Local timestamp is not as specific as message timestamp;\n",
    "several messages in a row are given the same time.\n",
    "But say we remove any duplicates,\n",
    "so there is just one of each local timestamp time for simplicity "
   ]
  },
  {
   "cell_type": "code",
   "execution_count": null,
   "id": "0727cef3",
   "metadata": {},
   "outputs": [],
   "source": [
    "#will eventually drop this cell\n",
    "#works for both versions\n",
    "newframe = newframe.drop_duplicates(subset = ['TIME'], keep = 'last')"
   ]
  },
  {
   "cell_type": "code",
   "execution_count": null,
   "id": "2fabac28",
   "metadata": {},
   "outputs": [],
   "source": [
    "#sorts by bus # and then stripped LOCAL_TIME or ('TIME')\n",
    "time_sorted = newframe.sort_values([\"SOURCE_HOST\",\n",
    "                                        'TIME'],\n",
    "                                       axis=0,\n",
    "                                       ascending=(True, True))"
   ]
  },
  {
   "cell_type": "code",
   "execution_count": null,
   "id": "ac014010",
   "metadata": {},
   "outputs": [],
   "source": [
    "#group by source host (keeps them in time order) and reset index\n",
    "groupedhost = time_sorted.groupby('SOURCE_HOST')\n",
    "time_sorted.reset_index(drop=True)\n",
    "\n",
    "#Mark rows where the day ends and new day begins\n",
    "time_sorted['PREVDAY'] = groupedhost.transform(lambda x: x.shift(-1) > x+pd.Timedelta('1h'))\n",
    "time_sorted['NEXTDAY'] = time_sorted['PREVDAY'].shift(1)\n",
    "time_sorted.reset_index(drop = True)"
   ]
  },
  {
   "cell_type": "code",
   "execution_count": null,
   "id": "a7aed638",
   "metadata": {},
   "outputs": [],
   "source": [
    "#Select rows with marks, put them together, final sort, export\n",
    "final = time_sorted.loc[time_sorted['PREVDAY'] == True] \n",
    "final2 = time_sorted.loc[time_sorted['NEXTDAY'] == True]\n",
    "x = pd.concat([final,final2])\n",
    "y = x.sort_values([\"SOURCE_HOST\",'TIME'],axis=0,ascending=(True, True))\n",
    "y.to_csv(r\"C:\\Users\\Cole\\Desktop\\Spring2022\\AVLResearch\\Data\\ProcessedAVL_GTFS\\AVL_StartStop_ofDay_EachBus.csv\",  index=False)"
   ]
  },
  {
   "cell_type": "markdown",
   "id": "585f62ef",
   "metadata": {},
   "source": [
    "AVL: Grouped by bus, then time, then takes first and last time for each service day <br>\n",
    "GTFS: Sorted by service day, then direction, assign trip numbers (+1 when direction change, reset at day change), start/stop each trip *Good to go*\n",
    "\n",
    "So we'll still need an AVL that is service_day, then time, assign trip numbers (+1 when direction change, reset at day change). For each day, line up GTFS and AVL against each other to compare"
   ]
  },
  {
   "cell_type": "markdown",
   "id": "f8fb9949",
   "metadata": {},
   "source": [
    "# AVL Trips (to match GTFS)"
   ]
  },
  {
   "cell_type": "code",
   "execution_count": null,
   "id": "03061043",
   "metadata": {},
   "outputs": [],
   "source": [
    "import pandas as pd\n",
    "import numpy as np\n",
    "from datetime import datetime, tzinfo\n",
    "from dateutil import tz\n",
    "import pytz\n",
    "dataPath = \"C:\\\\Users\\Cole\\Desktop\\Spring2022\\AVLResearch\\Data\\Aline-vehicle-messages-Oct1_Oct8_2016\\Aline-vehicle-messages-Oct1_Oct8-2016.csv\"\n",
    "dataFrame = pd.read_csv(dataPath)\n",
    "avl_messages = dataFrame[[\"CALENDAR_ID\",\n",
    "                          \"MESSAGE_TIMESTAMP\",\n",
    "                          \"LOCAL_TIMESTAMP\",\n",
    "                          \"SOURCE_HOST\",\n",
    "                          \"ROUTE_ABBR\",\n",
    "                          \"DIRECTION\",\n",
    "                          \"LONGITUDE\",\n",
    "                          \"LATITUDE\"]]\n",
    "newframe = avl_messages.replace({np.nan: None})"
   ]
  },
  {
   "cell_type": "code",
   "execution_count": null,
   "id": "a2440f91",
   "metadata": {},
   "outputs": [],
   "source": [
    "#Fix local_time for each row in AVL full data \n",
    "for index in range(len(newframe)):\n",
    "    try:\n",
    "        dt_str = newframe.loc[index, 'MESSAGE_TIMESTAMP']\n",
    "        dt_str1 = dt_str.replace('T',\"\").replace('Z',\"\")\n",
    "        dt_utc = datetime.strptime(dt_str1,\"%Y-%m-%d%H:%M:%S.%f\")\n",
    "        dt_utc = dt_utc.replace(tzinfo = pytz.UTC)\n",
    "        local_zone = tz.tzlocal()\n",
    "        dt_local = dt_utc.astimezone(local_zone)\n",
    "        local_time_str = dt_local.strftime(\"%Y-%m-%d%H:%M:%S.%f\")\n",
    "        print(local_time_str)\n",
    "        \n",
    "        \n",
    "        \n",
    "        newframe.loc[index,'TIME'] = local_time_str\n",
    "    except:\n",
    "        pass"
   ]
  },
  {
   "cell_type": "code",
   "execution_count": null,
   "id": "d9ab98c9",
   "metadata": {},
   "outputs": [],
   "source": [
    "#something like give value until >3 hr time gap, then add one"
   ]
  }
 ],
 "metadata": {
  "kernelspec": {
   "display_name": "Python 3 (ipykernel)",
   "language": "python",
   "name": "python3"
  },
  "language_info": {
   "codemirror_mode": {
    "name": "ipython",
    "version": 3
   },
   "file_extension": ".py",
   "mimetype": "text/x-python",
   "name": "python",
   "nbconvert_exporter": "python",
   "pygments_lexer": "ipython3",
   "version": "3.7.3"
  }
 },
 "nbformat": 4,
 "nbformat_minor": 5
}
