{
 "cells": [
  {
   "cell_type": "code",
   "execution_count": 1,
   "id": "99335871",
   "metadata": {},
   "outputs": [],
   "source": [
    "import pandas as pd\n",
    "import os\n",
    "# Set the workspace environment to master folder\n",
    "x=os.chdir('C:\\\\Users\\\\Cole\\\\Desktop\\\\Spring2022\\\\AVLResearch')"
   ]
  },
  {
   "cell_type": "code",
   "execution_count": 2,
   "id": "429c1254",
   "metadata": {},
   "outputs": [],
   "source": [
    "#open the outputs from GTFS Joining(PANDAS)\n",
    "calendar = pd.read_csv('Data\\\\GTFS_Query\\\\cal_select.txt', index_col = False)\n",
    "routes = pd.read_csv('Data\\\\GTFS_Query\\\\routes_select.txt', index_col = False)\n",
    "shapes = pd.read_csv('Data\\\\GTFS_Query\\\\shapes_select.txt', index_col = False)\n",
    "stop_times= pd.read_csv('Data\\\\GTFS_Query\\\\stop_times_select.txt', index_col = False)\n",
    "stops = pd.read_csv('Data\\\\GTFS_Query\\\\stops_select.txt', index_col = False)\n",
    "trips = pd.read_csv('Data\\\\GTFS_Query\\\\trips_select.txt', index_col = False)"
   ]
  },
  {
   "cell_type": "markdown",
   "id": "82cf3e06",
   "metadata": {},
   "source": [
    "### Intermediate Tables: \n",
    "(date, route, trip, vehicle#), stoptimes and shapes for each trip"
   ]
  },
  {
   "cell_type": "code",
   "execution_count": 3,
   "id": "bfb71117",
   "metadata": {},
   "outputs": [],
   "source": [
    "#should give you stop times w/ stop locations for each trip! 1>many\n",
    "trip_stop_times = pd.merge(stop_times,trips, how = 'left', on = 'trip_id')\n",
    "trips_stops_times = pd.merge(trip_stop_times,stops, how = 'left', on = 'stop_id')\n",
    "trips_stops_times = trips_stops_times[['trip_id',\n",
    "                                      'service_id_x',\n",
    "                                      'trip_headsign_x',\n",
    "                                      'shape_id_x',\n",
    "                                      'arrival_time',\n",
    "                                      'departure_time',\n",
    "                                      'stop_sequence_x',\n",
    "                                      'stop_id',\n",
    "                                       'stop_name',\n",
    "                                       'stop_desc',\n",
    "                                       'stop_lat',\n",
    "                                       'stop_lon',\n",
    "                                       'direction_id'\n",
    "                                      ]]\n",
    "trips_stops_times.to_csv('Data/ProcessedAVL_GTFS/all_trip_stop_times.csv', header=1, index=False)\n",
    "\n",
    "#should give you shape points w/ locations for each trip!\n",
    "trip_shapes = pd.merge(shapes,trips, how = 'left', on = 'trip_id')\n",
    "trip_shapes\n",
    "trip_shapes.to_csv('Data/ProcessedAVL_GTFS/all_trip_shapes.csv', header=1, index=False )"
   ]
  },
  {
   "cell_type": "markdown",
   "id": "a3c18688",
   "metadata": {},
   "source": [
    "### Summary Table: \n",
    "(date, trip, vehicle#), direction, first/last stop times, lats, longs"
   ]
  },
  {
   "cell_type": "code",
   "execution_count": 4,
   "id": "8f50b6c2",
   "metadata": {},
   "outputs": [],
   "source": [
    "#select all stop 20's and 1's\n",
    "sumtable = trips_stops_times.loc[trips_stops_times['stop_sequence_x'].isin([1,20])]\n",
    "sumtable.reset_index()\n",
    "sumtable.to_csv('Data/ProcessedAVL_GTFS/sumtableGTFS.csv', header=1, index=False )\n"
   ]
  },
  {
   "cell_type": "code",
   "execution_count": 5,
   "id": "288266f3",
   "metadata": {},
   "outputs": [],
   "source": [
    "trip_starts = sumtable[sumtable['stop_sequence_x']==1]\n",
    "trip_ends = sumtable[sumtable['stop_sequence_x']==20]\n",
    "result = pd.merge(trip_starts, trip_ends, on=['service_id_x', \"trip_id\"])\n",
    "result.to_csv('Data/ProcessedAVL_GTFS/finalresultGTFS.csv', header=1, index=False ) "
   ]
  },
  {
   "cell_type": "code",
   "execution_count": null,
   "id": "eafcf229",
   "metadata": {},
   "outputs": [],
   "source": []
  }
 ],
 "metadata": {
  "kernelspec": {
   "display_name": "Python 3 (ipykernel)",
   "language": "python",
   "name": "python3"
  },
  "language_info": {
   "codemirror_mode": {
    "name": "ipython",
    "version": 3
   },
   "file_extension": ".py",
   "mimetype": "text/x-python",
   "name": "python",
   "nbconvert_exporter": "python",
   "pygments_lexer": "ipython3",
   "version": "3.7.3"
  }
 },
 "nbformat": 4,
 "nbformat_minor": 5
}
