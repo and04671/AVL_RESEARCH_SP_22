{
 "cells": [
  {
   "cell_type": "markdown",
   "metadata": {},
   "source": [
    "### Imports"
   ]
  },
  {
   "cell_type": "code",
   "execution_count": 1,
   "metadata": {},
   "outputs": [],
   "source": [
    "import arcpy\n",
    "import pandas as pd\n",
    "import os\n",
    "\n",
    "# Set the workspace environment to master folder\n",
    "x=os.chdir('C:\\\\Users\\\\Cole\\\\Desktop\\\\Spring2022\\\\AVLResearch')"
   ]
  },
  {
   "cell_type": "markdown",
   "metadata": {},
   "source": [
    "### Define the GTFS inputs"
   ]
  },
  {
   "cell_type": "code",
   "execution_count": 2,
   "metadata": {},
   "outputs": [],
   "source": [
    "routes_txt = pd.read_csv(\"Data/GTFSoct1/routes.txt\", index_col = False)\n",
    "trips_txt = pd.read_csv(\"Data/GTFSoct1/trips.txt\", index_col = False)\n",
    "shapes_txt = pd.read_csv(\"Data/GTFSoct1/shapes.txt\", index_col = False)\n",
    "calendar_txt= pd.read_csv(\"Data/GTFSoct1/calendar.txt\", index_col = False)\n",
    "calendar_dates_txt= pd.read_csv(\"Data/GTFSoct1/calendar_dates.txt\", index_col = False)\n",
    "stop_times_txt= pd.read_csv(\"Data/GTFSoct1/stop_times.txt\", index_col = False)\n",
    "stops_txt= pd.read_csv(\"Data/GTFSoct1/stops.txt\", index_col = False)"
   ]
  },
  {
   "cell_type": "markdown",
   "metadata": {},
   "source": [
    "### Route Query (calendar query)"
   ]
  },
  {
   "cell_type": "code",
   "execution_count": 3,
   "metadata": {},
   "outputs": [],
   "source": [
    "#find the route ID for the route name you want\n",
    "route_name = '2'\n",
    "\n",
    "#find the route_ID for that route name\n",
    "routes_txt = pd.read_csv(\"Data/GTFSoct1/routes.txt\", index_col = False)\n",
    "route_row = routes_txt.loc[routes_txt['route_short_name'] == route_name]\n",
    "route_row.to_csv('Data/GTFS_Query/routes_new.txt')"
   ]
  },
  {
   "cell_type": "markdown",
   "metadata": {},
   "source": [
    "### Using route/cal to query trips"
   ]
  },
  {
   "cell_type": "code",
   "execution_count": 4,
   "metadata": {},
   "outputs": [],
   "source": [
    "#works\n",
    "trips_new =route_row.set_index('route_id').join(trips_txt.set_index('route_id'))\n",
    "#this trips can be used to backjoin shapes,stop times,stops\n",
    "trips_new.to_csv('Data/GTFS_Query/trips_new.txt', header=1 )"
   ]
  },
  {
   "cell_type": "code",
   "execution_count": null,
   "metadata": {},
   "outputs": [],
   "source": [
    "#in progress\n",
    "#Join trip to route via route_ID\n",
    "#last_table = route_row\n",
    "#new_table = trips_txt\n",
    "#join_field = 'route_id'\n",
    "\n",
    "#def find_trips(last_table, new_table, join_field): \n",
    " #   output = last_table.set_index(join_field).join(new_table.set_index(join_field))\n",
    "  #  output.to_csv('Data/GTFSoct1/' + new_table +\"_new.txt\", header=1 )\n",
    "\n",
    "#find_trips(last_table, new_table, join_field)"
   ]
  },
  {
   "cell_type": "markdown",
   "metadata": {},
   "source": [
    "### Using trips to query shapes, stoptimes, stops"
   ]
  },
  {
   "cell_type": "code",
   "execution_count": 5,
   "metadata": {},
   "outputs": [],
   "source": [
    "#Join shape to trip on shape_id\n",
    "shapes_new =trips_new.set_index('shape_id').join(shapes_txt.set_index('shape_id'))\n",
    "shapes_new.to_csv('Data/GTFS_Query/shapes_new.txt', header=1 )\n",
    "\n",
    "#join stoptimes to trip on trip_id\n",
    "stop_times_new = trips_new.set_index('trip_id').join(stop_times_txt.set_index('trip_id'))\n",
    "stop_times_new.to_csv('Data/GTFS_Query/stop_times_new.txt', header=1 )\n",
    "\n",
    "\n",
    "#stops_new = collapse stop times"
   ]
  },
  {
   "cell_type": "code",
   "execution_count": null,
   "metadata": {},
   "outputs": [],
   "source": []
  }
 ],
 "metadata": {
  "kernelspec": {
   "display_name": "Python 3",
   "language": "python",
   "name": "python3"
  },
  "language_info": {
   "codemirror_mode": {
    "name": "ipython",
    "version": 3
   },
   "file_extension": ".py",
   "mimetype": "text/x-python",
   "name": "python",
   "nbconvert_exporter": "python",
   "pygments_lexer": "ipython3",
   "version": "3.7.9"
  }
 },
 "nbformat": 4,
 "nbformat_minor": 4
}
