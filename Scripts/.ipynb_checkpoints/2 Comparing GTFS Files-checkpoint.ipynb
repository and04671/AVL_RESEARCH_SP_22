{
 "cells": [
  {
   "cell_type": "code",
   "execution_count": null,
   "metadata": {},
   "outputs": [],
   "source": [
    "#file names in GTFS\n",
    "fileslist = ['agency','calendar','calendar_dates','routes','shapes','stop_times','stops', 'trips']\n",
    "\n",
    "#for each file name compare the 5th and 6th (or any two adjacent days)\n",
    "for each in fileslist: \n",
    "    first_file = r'C:/Users/Cole/Desktop/Spring2022/AVLResearch/Data/GTFS/oct5/' + each +'.txt'\n",
    "    second_file = r'C:/Users/Cole/Desktop/Spring2022/AVLResearch/Data/GTFS/oct6/' + each +'.txt'\n",
    "    file1 = open(first_file, \"r\")\n",
    "    file2 = open(second_file, \"r\")\n",
    "    print(each)\n",
    "    i = 0\n",
    "    #row by row\n",
    "    for l1 in file1:\n",
    "        i += 1\n",
    "        for l2 in file2:\n",
    "            if l1 == l2:\n",
    "                pass\n",
    "                #\"Line is same \", i,\": \")\n",
    "            else:\n",
    "                print(\"Line \", i,\": \")\n",
    "                #show lines that are different\n",
    "                print(\"File 1: \", l1)\n",
    "                print(\"File 2: \", l2)\n",
    "            break\n",
    "    #close files\n",
    "    file1.close()\n",
    "    file2.close()    "
   ]
  }
 ],
 "metadata": {
  "kernelspec": {
   "display_name": "Python 3 (ipykernel)",
   "language": "python",
   "name": "python3"
  },
  "language_info": {
   "codemirror_mode": {
    "name": "ipython",
    "version": 3
   },
   "file_extension": ".py",
   "mimetype": "text/x-python",
   "name": "python",
   "nbconvert_exporter": "python",
   "pygments_lexer": "ipython3",
   "version": "3.7.3"
  }
 },
 "nbformat": 4,
 "nbformat_minor": 2
}
