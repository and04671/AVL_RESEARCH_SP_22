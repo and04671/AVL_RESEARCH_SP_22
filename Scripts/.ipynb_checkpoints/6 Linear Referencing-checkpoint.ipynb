{
 "cells": [
  {
   "cell_type": "markdown",
   "metadata": {},
   "source": [
    "Split AVL Route points into N and S points<br>\n",
    "\n",
    "Split GTFS routes into N and S routes<br>\n",
    "Create Routes layer for the routes*<br>\n",
    "\n",
    "Create a route from line features"
   ]
  },
  {
   "cell_type": "code",
   "execution_count": 1,
   "metadata": {},
   "outputs": [
    {
     "data": {
      "text/html": [
       "<h2>Output</h2>C:\\Users\\Cole\\Desktop\\Spring2022\\AVLResearch\\Data\\Linear_Ref_Files\\LRF.gdb<h2>Messages</h2>Start Time: Thursday, April 21, 2022 1:39:43 PM<br/>Succeeded at Thursday, April 21, 2022 1:39:43 PM (Elapsed Time: 0.03 seconds)<br/><style>.rendered_html td, .rendered_html th {text-align: left;}.rendered_html tbody {border: 1px solid black;}</style>"
      ],
      "text/plain": [
       "<Result 'C:\\\\Users\\\\Cole\\\\Desktop\\\\Spring2022\\\\AVLResearch\\\\Data\\\\Linear_Ref_Files\\\\LRF.gdb'>"
      ]
     },
     "execution_count": 1,
     "metadata": {},
     "output_type": "execute_result"
    }
   ],
   "source": [
    "import arcpy\n",
    "arcpy.CreateFileGDB_management(r\"C:\\Users\\Cole\\Desktop\\Spring2022\\AVLResearch\\Data\\Linear_Ref_Files\", \"LRF.gdb\")"
   ]
  },
  {
   "cell_type": "code",
   "execution_count": 2,
   "metadata": {},
   "outputs": [],
   "source": [
    "import pandas as pd\n",
    "AVLs = r'C:\\Users\\Cole\\Desktop\\Spring2022\\AVLResearch\\Data\\Aline-vehicle-messages-Oct1_Oct8_2016\\Aline-vehicle-messages-Oct1_Oct8-2016.csv'\n",
    "GTFS = r':\\Users\\Cole\\Desktop\\Spring2022\\AVLResearch\\Data\\GTFS_Query'\n",
    "\n",
    "AVL_Points = pd.read_csv(AVLs, index_col = False)"
   ]
  },
  {
   "cell_type": "code",
   "execution_count": 3,
   "metadata": {},
   "outputs": [],
   "source": [
    "AVL_Points_Sort = AVL_Points.sort_values(by =['SOURCE_HOST','MESSAGE_TIMESTAMP','LOCAL_TIMESTAMP'])"
   ]
  },
  {
   "cell_type": "code",
   "execution_count": 4,
   "metadata": {},
   "outputs": [],
   "source": [
    "new = AVL_Points_Sort[[\"SOURCE_HOST\", 'LONGITUDE',\"LATITUDE\",\n",
    "                       'LOCAL_TIMESTAMP', 'MESSAGE_TIMESTAMP',\n",
    "                       'MESSAGE_TYPE_TEXT', 'DIRECTION',\n",
    "                      'ODOMETER', 'FOM']]\n",
    "AVL_Points_Select = new[101:209]"
   ]
  },
  {
   "cell_type": "code",
   "execution_count": 5,
   "metadata": {},
   "outputs": [
    {
     "name": "stderr",
     "output_type": "stream",
     "text": [
      "C:\\Program Files\\ArcGIS\\Pro\\bin\\Python\\envs\\arcgispro-py3\\lib\\site-packages\\ipykernel_launcher.py:1: SettingWithCopyWarning: \n",
      "A value is trying to be set on a copy of a slice from a DataFrame.\n",
      "Try using .loc[row_indexer,col_indexer] = value instead\n",
      "\n",
      "See the caveats in the documentation: https://pandas.pydata.org/pandas-docs/stable/user_guide/indexing.html#returning-a-view-versus-a-copy\n",
      "  \"\"\"Entry point for launching an IPython kernel.\n",
      "C:\\Program Files\\ArcGIS\\Pro\\bin\\Python\\envs\\arcgispro-py3\\lib\\site-packages\\ipykernel_launcher.py:2: SettingWithCopyWarning: \n",
      "A value is trying to be set on a copy of a slice from a DataFrame.\n",
      "Try using .loc[row_indexer,col_indexer] = value instead\n",
      "\n",
      "See the caveats in the documentation: https://pandas.pydata.org/pandas-docs/stable/user_guide/indexing.html#returning-a-view-versus-a-copy\n",
      "  \n"
     ]
    }
   ],
   "source": [
    "AVL_Points_Select[\"LongCoord\"] = AVL_Points_Select['LONGITUDE']/10000000\n",
    "AVL_Points_Select[\"LatCoord\"] = AVL_Points_Select['LATITUDE']/10000000"
   ]
  },
  {
   "cell_type": "code",
   "execution_count": 6,
   "metadata": {},
   "outputs": [],
   "source": [
    "AVL_Points_Select.to_csv(r\"C:\\Users\\Cole\\Desktop\\Spring2022\\AVLResearch\\Data\\Linear_Ref_Files\\AVL_Pts.csv\")"
   ]
  },
  {
   "cell_type": "code",
   "execution_count": 7,
   "metadata": {},
   "outputs": [
    {
     "data": {
      "text/html": [
       "<h2>Output</h2>C:\\Users\\Cole\\Desktop\\Spring2022\\AVLResearch\\Data\\Linear_Ref_Files\\LRF.gdb\\AVL_Pts_Proj<h2>Messages</h2>Start Time: Thursday, April 21, 2022 1:40:03 PM<br/>Succeeded at Thursday, April 21, 2022 1:40:04 PM (Elapsed Time: 0.42 seconds)<br/><style>.rendered_html td, .rendered_html th {text-align: left;}.rendered_html tbody {border: 1px solid black;}</style>"
      ],
      "text/plain": [
       "<Result 'C:\\\\Users\\\\Cole\\\\Desktop\\\\Spring2022\\\\AVLResearch\\\\Data\\\\Linear_Ref_Files\\\\LRF.gdb\\\\AVL_Pts_Proj'>"
      ]
     },
     "execution_count": 7,
     "metadata": {},
     "output_type": "execute_result"
    }
   ],
   "source": [
    "arcpy.env.workspace = r\"C:\\Users\\Cole\\Desktop\\Spring2022\\AVLResearch\\Data\\Linear_Ref_Files\"\n",
    "arcpy.management.XYTableToPoint(r\"AVL_Pts.csv\", \"LRF.gdb\\AVL_Pts_shp\",\n",
    "                                \"LongCoord\", \"LatCoord\", \"\")\n",
    "    \n",
    "    \n",
    "input_features = \"LRF.gdb\\AVL_Pts_shp\"\n",
    "\n",
    "# output data\n",
    "output_feature_class = r\"LRF.gdb\\AVL_Pts_Proj\"\n",
    "\n",
    "# create a spatial reference object for the output coordinate system\n",
    "out_coordinate_system = arcpy.SpatialReference('NAD 1983 NSRS2007 StatePlane Minnesota Central FIPS 2202 (Meters)')\n",
    "\n",
    "# run the tool\n",
    "arcpy.Project_management(input_features, output_feature_class, out_coordinate_system)"
   ]
  },
  {
   "cell_type": "code",
   "execution_count": 8,
   "metadata": {},
   "outputs": [
    {
     "data": {
      "text/html": [
       "<h2>Output</h2>C:\\Users\\Cole\\Desktop\\Spring2022\\AVLResearch\\Data\\Linear_Ref_Files\\LRF.gdb\\GTFSShapes<h2>Messages</h2>Start Time: Thursday, April 21, 2022 1:40:11 PM<br/>Succeeded at Thursday, April 21, 2022 1:40:15 PM (Elapsed Time: 3.83 seconds)<br/><style>.rendered_html td, .rendered_html th {text-align: left;}.rendered_html tbody {border: 1px solid black;}</style>"
      ],
      "text/plain": [
       "<Result 'C:\\\\Users\\\\Cole\\\\Desktop\\\\Spring2022\\\\AVLResearch\\\\Data\\\\Linear_Ref_Files\\\\LRF.gdb\\\\GTFSShapes'>"
      ]
     },
     "execution_count": 8,
     "metadata": {},
     "output_type": "execute_result"
    }
   ],
   "source": [
    "#GTFS shapes to features\n",
    "#reproject\n",
    "\n",
    "arcpy.conversion.GTFSShapesToFeatures(r\"C:\\Users\\Cole\\Desktop\\Spring2022\\AVLResearch\\Data\\GTFS_Query\\shapes.txt\",\n",
    "                                      r\"C:\\Users\\Cole\\Desktop\\Spring2022\\AVLResearch\\Data\\Linear_Ref_Files\\LRF.gdb\\GTFSShapes\")"
   ]
  },
  {
   "cell_type": "code",
   "execution_count": 9,
   "metadata": {},
   "outputs": [
    {
     "data": {
      "text/html": [
       "<h2>Output</h2>C:\\Users\\Cole\\Desktop\\Spring2022\\AVLResearch\\Data\\Linear_Ref_Files\\LRF.gdb\\GTFS_Shapes_Proj<h2>Messages</h2>Start Time: Thursday, April 21, 2022 1:40:18 PM<br/>Succeeded at Thursday, April 21, 2022 1:40:18 PM (Elapsed Time: 0.40 seconds)<br/><style>.rendered_html td, .rendered_html th {text-align: left;}.rendered_html tbody {border: 1px solid black;}</style>"
      ],
      "text/plain": [
       "<Result 'C:\\\\Users\\\\Cole\\\\Desktop\\\\Spring2022\\\\AVLResearch\\\\Data\\\\Linear_Ref_Files\\\\LRF.gdb\\\\GTFS_Shapes_Proj'>"
      ]
     },
     "execution_count": 9,
     "metadata": {},
     "output_type": "execute_result"
    }
   ],
   "source": [
    "input_features = \"LRF.gdb\\GTFSShapes\"\n",
    "\n",
    "# output data\n",
    "output_feature_class = r\"LRF.gdb\\GTFS_Shapes_Proj\"\n",
    "\n",
    "# create a spatial reference object for the output coordinate system\n",
    "out_coordinate_system = arcpy.SpatialReference('NAD 1983 NSRS2007 StatePlane Minnesota Central FIPS 2202 (Meters)')\n",
    "\n",
    "# run the tool\n",
    "arcpy.Project_management(input_features, output_feature_class, out_coordinate_system)"
   ]
  },
  {
   "cell_type": "code",
   "execution_count": 11,
   "metadata": {},
   "outputs": [
    {
     "data": {
      "text/html": [
       "<h2>Output</h2>C:\\Users\\Cole\\Desktop\\Spring2022\\AVLResearch\\Data\\Linear_Ref_Files\\LRF.gdb\\GTFS_Shapes_Proj_S<h2>Messages</h2>Start Time: Thursday, April 21, 2022 1:40:29 PM<br/>Succeeded at Thursday, April 21, 2022 1:40:29 PM (Elapsed Time: 0.37 seconds)<br/><style>.rendered_html td, .rendered_html th {text-align: left;}.rendered_html tbody {border: 1px solid black;}</style>"
      ],
      "text/plain": [
       "<Result 'C:\\\\Users\\\\Cole\\\\Desktop\\\\Spring2022\\\\AVLResearch\\\\Data\\\\Linear_Ref_Files\\\\LRF.gdb\\\\GTFS_Shapes_Proj_S'>"
      ]
     },
     "execution_count": 11,
     "metadata": {},
     "output_type": "execute_result"
    }
   ],
   "source": [
    "# Set the workspace\n",
    "arcpy.env.workspace = r'C:\\Users\\Cole\\Desktop\\Spring2022\\AVLResearch\\Data\\Linear_Ref_Files\\LRF.gdb'\n",
    "\n",
    "query = \"\\\"shape_id\\\" = \\'9210001\\'\"\n",
    "# Within selected features, further select only those cities with a \n",
    "# population > 10,000   \n",
    "select = arcpy.SelectLayerByAttribute_management('GTFS_Shapes_Proj', 'NEW_SELECTION', \n",
    "                                        query)\n",
    "\n",
    "# Write the selected features to a new feature class\n",
    "arcpy.CopyFeatures_management(select, 'GTFS_Shapes_Proj_N')\n",
    "\n",
    "query = \"\\\"shape_id\\\" = \\'9210002\\'\"\n",
    "# Within selected features, further select only those cities with a \n",
    "# population > 10,000   \n",
    "select = arcpy.SelectLayerByAttribute_management('GTFS_Shapes_Proj', 'NEW_SELECTION', \n",
    "                                        query)\n",
    "\n",
    "# Write the selected features to a new feature class\n",
    "arcpy.CopyFeatures_management(select, 'GTFS_Shapes_Proj_S')"
   ]
  },
  {
   "cell_type": "code",
   "execution_count": 12,
   "metadata": {},
   "outputs": [
    {
     "data": {
      "text/html": [
       "<h2>Output</h2>C:\\Users\\Cole\\Desktop\\Spring2022\\AVLResearch\\Data\\Linear_Ref_Files\\LRF.gdb\\AVL_Pts_Proj_S<h2>Messages</h2>Start Time: Thursday, April 21, 2022 1:40:39 PM<br/>Succeeded at Thursday, April 21, 2022 1:40:39 PM (Elapsed Time: 0.41 seconds)<br/><style>.rendered_html td, .rendered_html th {text-align: left;}.rendered_html tbody {border: 1px solid black;}</style>"
      ],
      "text/plain": [
       "<Result 'C:\\\\Users\\\\Cole\\\\Desktop\\\\Spring2022\\\\AVLResearch\\\\Data\\\\Linear_Ref_Files\\\\LRF.gdb\\\\AVL_Pts_Proj_S'>"
      ]
     },
     "execution_count": 12,
     "metadata": {},
     "output_type": "execute_result"
    }
   ],
   "source": [
    "# Set the workspace\n",
    "arcpy.env.workspace = r'C:\\Users\\Cole\\Desktop\\Spring2022\\AVLResearch\\Data\\Linear_Ref_Files\\LRF.gdb'\n",
    "query = \"\\\"DIRECTION\\\" = 4\"   \n",
    "select = arcpy.SelectLayerByAttribute_management('AVL_Pts_Proj', 'NEW_SELECTION', \n",
    "                                        query)\n",
    "\n",
    "# Write the selected features to a new feature class\n",
    "arcpy.CopyFeatures_management(select, 'AVL_Pts_Proj_N')\n",
    "\n",
    "query = \"\\\"DIRECTION\\\" = 1\"\n",
    "# Within selected features, further select only those cities with a \n",
    "# population > 10,000   \n",
    "select = arcpy.SelectLayerByAttribute_management('AVL_Pts_Proj', 'NEW_SELECTION', query)\n",
    "\n",
    "# Write the selected features to a new feature class\n",
    "arcpy.CopyFeatures_management(select, 'AVL_Pts_Proj_S')"
   ]
  },
  {
   "cell_type": "code",
   "execution_count": 20,
   "metadata": {},
   "outputs": [
    {
     "data": {
      "text/html": [
       "<h2>Output</h2>C:\\Users\\Cole\\Desktop\\Spring2022\\AVLResearch\\Data\\Linear_Ref_Files\\LRF.gdb\\RouteN<h2>Messages</h2>Start Time: Thursday, April 21, 2022 2:21:54 PM<br/>Succeeded at Thursday, April 21, 2022 2:21:54 PM (Elapsed Time: 0.24 seconds)<br/><style>.rendered_html td, .rendered_html th {text-align: left;}.rendered_html tbody {border: 1px solid black;}</style>"
      ],
      "text/plain": [
       "<Result 'C:\\\\Users\\\\Cole\\\\Desktop\\\\Spring2022\\\\AVLResearch\\\\Data\\\\Linear_Ref_Files\\\\LRF.gdb\\\\RouteN'>"
      ]
     },
     "execution_count": 20,
     "metadata": {},
     "output_type": "execute_result"
    }
   ],
   "source": [
    "in_lines = r\"C:\\Users\\Cole\\Desktop\\Spring2022\\AVLResearch\\Data\\Linear_Ref_Files\\LRF.gdb\\GTFS_Shapes_Proj_N\"\n",
    "rid = 'shape_id'\n",
    "out_routes = r\"C:\\Users\\Cole\\Desktop\\Spring2022\\AVLResearch\\Data\\Linear_Ref_Files\\LRF.gdb\\RouteN\"\n",
    "\n",
    "\n",
    "arcpy.CreateRoutes_lr(in_lines, rid, out_routes, \"LENGTH\", \"#\", \"#\", \n",
    "                      \"LOWER_LEFT\", 0.00018939394)"
   ]
  },
  {
   "cell_type": "code",
   "execution_count": 21,
   "metadata": {},
   "outputs": [
    {
     "data": {
      "text/html": [
       "<h2>Output</h2>C:\\Users\\Cole\\Desktop\\Spring2022\\AVLResearch\\Data\\Linear_Ref_Files\\LRF.gdb\\RouteS<h2>Messages</h2>Start Time: Thursday, April 21, 2022 2:21:57 PM<br/>Succeeded at Thursday, April 21, 2022 2:21:57 PM (Elapsed Time: 0.23 seconds)<br/><style>.rendered_html td, .rendered_html th {text-align: left;}.rendered_html tbody {border: 1px solid black;}</style>"
      ],
      "text/plain": [
       "<Result 'C:\\\\Users\\\\Cole\\\\Desktop\\\\Spring2022\\\\AVLResearch\\\\Data\\\\Linear_Ref_Files\\\\LRF.gdb\\\\RouteS'>"
      ]
     },
     "execution_count": 21,
     "metadata": {},
     "output_type": "execute_result"
    }
   ],
   "source": [
    "in_lines = r\"C:\\Users\\Cole\\Desktop\\Spring2022\\AVLResearch\\Data\\Linear_Ref_Files\\LRF.gdb\\GTFS_Shapes_Proj_S\"\n",
    "rid = 'shape_id'\n",
    "out_routes = r\"C:\\Users\\Cole\\Desktop\\Spring2022\\AVLResearch\\Data\\Linear_Ref_Files\\LRF.gdb\\RouteS\"\n",
    "\n",
    "\n",
    "arcpy.CreateRoutes_lr(in_lines, rid, out_routes, \"LENGTH\", \"#\", \"#\", \n",
    "                      \"UPPER_RIGHT\", 0.00018939394)"
   ]
  },
  {
   "cell_type": "code",
   "execution_count": 6,
   "metadata": {},
   "outputs": [
    {
     "data": {
      "text/html": [
       "<h2>Output</h2><table><tr><th>id</th><th>value</th></tr><tr><td>0</td><td>C:\\Users\\Cole\\Desktop\\Spring2022\\AVLResearch\\Data\\Linear_Ref_Files\\LRF.gdb\\locate_events_S_T4</td></tr><tr><td>1</td><td>shape_id POINT mp</td></tr></table><h2>Messages</h2>Start Time: Monday, April 25, 2022 10:53:43 AM<br/>Succeeded at Monday, April 25, 2022 10:53:43 AM (Elapsed Time: 0.28 seconds)<br/><style>.rendered_html td, .rendered_html th {text-align: left;}.rendered_html tbody {border: 1px solid black;}</style>"
      ],
      "text/plain": [
       "<Result 'C:\\\\Users\\\\Cole\\\\Desktop\\\\Spring2022\\\\AVLResearch\\\\Data\\\\Linear_Ref_Files\\\\LRF.gdb\\\\locate_events_S_T4'>"
      ]
     },
     "execution_count": 6,
     "metadata": {},
     "output_type": "execute_result"
    }
   ],
   "source": [
    "import arcpy\n",
    "#locate features along route\n",
    "arcpy.env.workspace = r'C:\\Users\\Cole\\Desktop\\Spring2022\\AVLResearch\\Data\\Linear_Ref_Files\\LRF.gdb'\n",
    "\n",
    "\n",
    "# Set local variables\n",
    "feats = \"AVL_Pts_Proj_S\"\n",
    "rts = \"RouteS\"\n",
    "rid = \"shape_id\"\n",
    "tol = \"9 Meters\"\n",
    "tbl = \"locate_events_S_T4\"\n",
    "props = \"shape_id POINT mp\" \n",
    "\n",
    "# Execute LocateFeaturesAlongRoutes\n",
    "arcpy.LocateFeaturesAlongRoutes_lr(feats,\n",
    "                                   rts,\n",
    "                                   rid,\n",
    "                                   tol,\n",
    "                                   tbl,\n",
    "                                   props,\n",
    "                                   route_locations = True,\n",
    "                                   distance_field = True,\n",
    "                                   m_direction_offsetting = True)"
   ]
  },
  {
   "cell_type": "code",
   "execution_count": null,
   "metadata": {},
   "outputs": [],
   "source": [
    "# hm, when placing points from locate table 1984 works bu not the NAD StatePlane"
   ]
  }
 ],
 "metadata": {
  "kernelspec": {
   "display_name": "Python 3",
   "language": "python",
   "name": "python3"
  },
  "language_info": {
   "codemirror_mode": {
    "name": "ipython",
    "version": 3
   },
   "file_extension": ".py",
   "mimetype": "text/x-python",
   "name": "python",
   "nbconvert_exporter": "python",
   "pygments_lexer": "ipython3",
   "version": "3.7.9"
  }
 },
 "nbformat": 4,
 "nbformat_minor": 5
}
