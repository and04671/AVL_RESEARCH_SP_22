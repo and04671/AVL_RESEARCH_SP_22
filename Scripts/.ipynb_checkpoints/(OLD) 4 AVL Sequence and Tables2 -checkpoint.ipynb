{
 "cells": [
  {
   "cell_type": "code",
   "execution_count": 1,
   "id": "8fd38f42",
   "metadata": {},
   "outputs": [],
   "source": [
    "import pandas as pd\n",
    "import numpy as np\n",
    "dataPath = \"C:\\\\Users\\Cole\\Desktop\\Spring2022\\AVLResearch\\Data\\Aline-vehicle-messages-Oct1_Oct8_2016\\Aline-vehicle-messages-Oct1_Oct8-2016.csv\"\n",
    "\n",
    "\n",
    "#pd.options.display.max_rows = 9999\n",
    "dataFrame = pd.read_csv(dataPath)\n",
    "#dataFrameShort = dataFrame.iloc[::10,:]\n",
    "avl_messages = dataFrame[[\"CALENDAR_ID\",\n",
    "                          \"TRANSMITTED_MESSAGE_ID\",\n",
    "                          \"MESSAGE_TIMESTAMP\",\n",
    "                          \"LOCAL_TIMESTAMP\",\n",
    "                          \"SOURCE_HOST\",\n",
    "                          \"ODOMETER\",\n",
    "                          \"ROUTE_ABBR\",\n",
    "                          \"DIRECTION\",\n",
    "                          \"LONGITUDE\",\n",
    "                          \"LATITUDE\"\n",
    "                          ]]\n",
    "\n",
    "time_sorted = avl_messages.sort_values([\"CALENDAR_ID\",\n",
    "                                        \"SOURCE_HOST\",\n",
    "                                        \"MESSAGE_TIMESTAMP\"],\n",
    "                                       axis=0,\n",
    "                                       ascending=(True, True, True))\n",
    "time_sorted.reset_index(inplace = True, drop = True)\n",
    "\n",
    "time_sorted[\"day_id\"] = time_sorted.groupby(\"CALENDAR_ID\",sort=False).ngroup()+1\n",
    "time_sorted[\"source_id\"] = time_sorted.groupby(\"SOURCE_HOST\",sort=False).ngroup()+1\n",
    "\n",
    "\n",
    "#time_sorted\n",
    "time_sorted.to_csv(r\"C:\\Users\\Cole\\Desktop\\Spring2022\\AVLResearch\\Data\\ProcessedAVL_GTFS\\DayBusSortAVL.csv\")  "
   ]
  },
  {
   "cell_type": "code",
   "execution_count": null,
   "id": "cca34735",
   "metadata": {},
   "outputs": [],
   "source": []
  }
 ],
 "metadata": {
  "kernelspec": {
   "display_name": "Python 3 (ipykernel)",
   "language": "python",
   "name": "python3"
  },
  "language_info": {
   "codemirror_mode": {
    "name": "ipython",
    "version": 3
   },
   "file_extension": ".py",
   "mimetype": "text/x-python",
   "name": "python",
   "nbconvert_exporter": "python",
   "pygments_lexer": "ipython3",
   "version": "3.7.3"
  }
 },
 "nbformat": 4,
 "nbformat_minor": 5
}
