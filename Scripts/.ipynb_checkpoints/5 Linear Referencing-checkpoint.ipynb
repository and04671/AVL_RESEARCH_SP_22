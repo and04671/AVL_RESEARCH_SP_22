{
 "cells": [
  {
   "cell_type": "markdown",
   "metadata": {},
   "source": [
    "Split AVL Route points into N and S points<br>\n",
    "\n",
    "Split GTFS routes into N and S routes<br>\n",
    "Create Routes layer for the routes*<br>\n",
    "\n",
    "Create a route from line features"
   ]
  },
  {
   "cell_type": "code",
   "execution_count": null,
   "metadata": {},
   "outputs": [],
   "source": [
    "import arcpy\n",
    "arcpy.CreateFileGDB_management(r\"C:\\Users\\Cole\\Desktop\\Spring2022\\AVLResearch\\Data\\Linear_Ref_Files\", \"LRF.gdb\")"
   ]
  },
  {
   "cell_type": "code",
   "execution_count": null,
   "metadata": {},
   "outputs": [],
   "source": [
    "import pandas as pd\n",
    "AVLs = r'C:\\Users\\Cole\\Desktop\\Spring2022\\AVLResearch\\Data\\Aline-vehicle-messages-Oct1_Oct8_2016\\Aline-vehicle-messages-Oct1_Oct8-2016.csv'\n",
    "GTFS = r':\\Users\\Cole\\Desktop\\Spring2022\\AVLResearch\\Data\\GTFS_Query'\n",
    "\n",
    "AVL_Points = pd.read_csv(AVLs, index_col = False)"
   ]
  },
  {
   "cell_type": "code",
   "execution_count": null,
   "metadata": {},
   "outputs": [],
   "source": [
    "#sort avl rows by host, UTC time, local time\n",
    "AVL_Points_Sort = AVL_Points.sort_values(by =['SOURCE_HOST','MESSAGE_TIMESTAMP','LOCAL_TIMESTAMP'])"
   ]
  },
  {
   "cell_type": "code",
   "execution_count": null,
   "metadata": {},
   "outputs": [],
   "source": [
    "new = AVL_Points_Sort[[\"SOURCE_HOST\", 'LONGITUDE',\"LATITUDE\",\n",
    "                       'LOCAL_TIMESTAMP', 'MESSAGE_TIMESTAMP',\n",
    "                       'MESSAGE_TYPE_TEXT', 'DIRECTION',\n",
    "                      'ODOMETER', 'FOM']]\n",
    "#this takes a section of 1 north and 1 south trip from AVL\n",
    "AVL_Points_Select = new[101:209]"
   ]
  },
  {
   "cell_type": "code",
   "execution_count": null,
   "metadata": {},
   "outputs": [],
   "source": [
    "#translate Lat and Long to actual coordinates\n",
    "AVL_Points_Select[\"LongCoord\"] = AVL_Points_Select['LONGITUDE']/10000000\n",
    "AVL_Points_Select[\"LatCoord\"] = AVL_Points_Select['LATITUDE']/10000000"
   ]
  },
  {
   "cell_type": "code",
   "execution_count": null,
   "metadata": {},
   "outputs": [],
   "source": [
    "#push selection to csv\n",
    "AVL_Points_Select.to_csv(r\"C:\\Users\\Cole\\Desktop\\Spring2022\\AVLResearch\\Data\\Linear_Ref_Files\\AVL_Pts.csv\")"
   ]
  },
  {
   "cell_type": "code",
   "execution_count": null,
   "metadata": {},
   "outputs": [],
   "source": [
    "arcpy.env.workspace = r\"C:\\Users\\Cole\\Desktop\\Spring2022\\AVLResearch\\Data\\Linear_Ref_Files\"\n",
    "#turn avl points tavle into points feature class\n",
    "arcpy.management.XYTableToPoint(r\"AVL_Pts.csv\", \"LRF.gdb\\AVL_Pts_shp\",\n",
    "                                \"LongCoord\", \"LatCoord\", \"\")\n",
    "    \n",
    "    \n",
    "input_features = \"LRF.gdb\\AVL_Pts_shp\"\n",
    "\n",
    "# output data\n",
    "output_feature_class = r\"LRF.gdb\\AVL_Pts_Proj\"\n",
    "\n",
    "# create a spatial reference object for the output coordinate system\n",
    "out_coordinate_system = arcpy.SpatialReference('NAD 1983 NSRS2007 StatePlane Minnesota Central FIPS 2202 (Meters)')\n",
    "\n",
    "# run the tool\n",
    "arcpy.Project_management(input_features, output_feature_class, out_coordinate_system)\n",
    "#we now have a projected version of the AVLpoints class"
   ]
  },
  {
   "cell_type": "code",
   "execution_count": null,
   "metadata": {},
   "outputs": [],
   "source": [
    "#GTFS shapes to features\n",
    "#reproject\n",
    "#turn the gtfs N trip shape and S trip shape into polylines\n",
    "arcpy.conversion.GTFSShapesToFeatures(r\"C:\\Users\\Cole\\Desktop\\Spring2022\\AVLResearch\\Data\\GTFS_Query\\shapes.txt\",\n",
    "                                      r\"C:\\Users\\Cole\\Desktop\\Spring2022\\AVLResearch\\Data\\Linear_Ref_Files\\LRF.gdb\\GTFSShapes\")"
   ]
  },
  {
   "cell_type": "code",
   "execution_count": null,
   "metadata": {},
   "outputs": [],
   "source": [
    "input_features = \"LRF.gdb\\GTFSShapes\"\n",
    "\n",
    "# output data\n",
    "output_feature_class = r\"LRF.gdb\\GTFS_Shapes_Proj\"\n",
    "\n",
    "# create a spatial reference object for the output coordinate system\n",
    "out_coordinate_system = arcpy.SpatialReference('NAD 1983 NSRS2007 StatePlane Minnesota Central FIPS 2202 (Meters)')\n",
    "\n",
    "# run the tool\n",
    "arcpy.Project_management(input_features, output_feature_class, out_coordinate_system)\n",
    "#now have GTFS points in projected form"
   ]
  },
  {
   "cell_type": "code",
   "execution_count": null,
   "metadata": {},
   "outputs": [],
   "source": [
    "# Set the workspace\n",
    "arcpy.env.workspace = r'C:\\Users\\Cole\\Desktop\\Spring2022\\AVLResearch\\Data\\Linear_Ref_Files\\LRF.gdb'\n",
    "\n",
    "query = \"\\\"shape_id\\\" = \\'9210001\\'\"\n",
    "# Within selected features, further select only only N trip points (shape 921001) \n",
    "select = arcpy.SelectLayerByAttribute_management('GTFS_Shapes_Proj', 'NEW_SELECTION', \n",
    "                                        query)\n",
    "\n",
    "# Write the selected features to a new feature class\n",
    "arcpy.CopyFeatures_management(select, 'GTFS_Shapes_Proj_N')\n",
    "\n",
    "query = \"\\\"shape_id\\\" = \\'9210002\\'\"\n",
    "# Within selected features, further select only only S trip points (shape 921002) \n",
    "\n",
    "select = arcpy.SelectLayerByAttribute_management('GTFS_Shapes_Proj', 'NEW_SELECTION', \n",
    "                                        query)\n",
    "\n",
    "# Write the selected features to a new feature class\n",
    "arcpy.CopyFeatures_management(select, 'GTFS_Shapes_Proj_S')"
   ]
  },
  {
   "cell_type": "code",
   "execution_count": null,
   "metadata": {},
   "outputs": [],
   "source": [
    "#same as previous cell except splitting AVL data instead\n",
    "# Set the workspace\n",
    "arcpy.env.workspace = r'C:\\Users\\Cole\\Desktop\\Spring2022\\AVLResearch\\Data\\Linear_Ref_Files\\LRF.gdb'\n",
    "query = \"\\\"DIRECTION\\\" = 4\"   \n",
    "select = arcpy.SelectLayerByAttribute_management('AVL_Pts_Proj', 'NEW_SELECTION', \n",
    "                                        query)\n",
    "\n",
    "# Write the selected features to a new feature class\n",
    "arcpy.CopyFeatures_management(select, 'AVL_Pts_Proj_N')\n",
    "\n",
    "query = \"\\\"DIRECTION\\\" = 1\"\n",
    "\n",
    "select = arcpy.SelectLayerByAttribute_management('AVL_Pts_Proj', 'NEW_SELECTION', query)\n",
    "\n",
    "# Write the selected features to a new feature class\n",
    "arcpy.CopyFeatures_management(select, 'AVL_Pts_Proj_S')"
   ]
  },
  {
   "cell_type": "code",
   "execution_count": null,
   "metadata": {},
   "outputs": [],
   "source": [
    "#create route layer from N trip GTFS\n",
    "in_lines = r\"C:\\Users\\Cole\\Desktop\\Spring2022\\AVLResearch\\Data\\Linear_Ref_Files\\LRF.gdb\\GTFS_Shapes_Proj_N\"\n",
    "rid = 'shape_id'\n",
    "out_routes = r\"C:\\Users\\Cole\\Desktop\\Spring2022\\AVLResearch\\Data\\Linear_Ref_Files\\LRF.gdb\\RouteN\"\n",
    "\n",
    "\n",
    "arcpy.CreateRoutes_lr(in_lines, rid, out_routes, \"LENGTH\", \"#\", \"#\", \n",
    "                      \"LOWER_LEFT\", 0.00018939394)"
   ]
  },
  {
   "cell_type": "code",
   "execution_count": null,
   "metadata": {},
   "outputs": [],
   "source": [
    "#create route layer from S trip GTFS\n",
    "in_lines = r\"C:\\Users\\Cole\\Desktop\\Spring2022\\AVLResearch\\Data\\Linear_Ref_Files\\LRF.gdb\\GTFS_Shapes_Proj_S\"\n",
    "rid = 'shape_id'\n",
    "out_routes = r\"C:\\Users\\Cole\\Desktop\\Spring2022\\AVLResearch\\Data\\Linear_Ref_Files\\LRF.gdb\\RouteS\"\n",
    "\n",
    "\n",
    "arcpy.CreateRoutes_lr(in_lines, rid, out_routes, \"LENGTH\", \"#\", \"#\", \n",
    "                      \"UPPER_RIGHT\", 0.00018939394)"
   ]
  },
  {
   "cell_type": "code",
   "execution_count": null,
   "metadata": {},
   "outputs": [],
   "source": [
    "#the next 2 cells can be switched out for N or S, just replace\n",
    "import arcpy\n",
    "#locate features along route\n",
    "arcpy.env.workspace = r'C:\\Users\\Cole\\Desktop\\Spring2022\\AVLResearch\\Data\\Linear_Ref_Files\\LRF.gdb'\n",
    "\n",
    "\n",
    "# Set local variables\n",
    "feats = \"AVL_Pts_Proj_N\"\n",
    "rts = \"RouteN\"\n",
    "rid = \"shape_id\"\n",
    "tol = \"9 Meters\"\n",
    "tbl = \"locate_events_N\"\n",
    "props = \"shape_id POINT mp\" \n",
    "\n",
    "# Execute LocateFeaturesAlongRoutes for \n",
    "arcpy.LocateFeaturesAlongRoutes_lr(feats,\n",
    "                                   rts,\n",
    "                                   rid,\n",
    "                                   tol,\n",
    "                                   tbl,\n",
    "                                   props,\n",
    "                                   route_locations = True,\n",
    "                                   distance_field = True,\n",
    "                                   m_direction_offsetting = True)"
   ]
  },
  {
   "cell_type": "code",
   "execution_count": 1,
   "metadata": {},
   "outputs": [
    {
     "data": {
      "text/html": [
       "<h2>Output</h2>a Layer object<h2>Messages</h2>Start Time: Monday, May 9, 2022 1:07:41 PM<br/>Succeeded at Monday, May 9, 2022 1:07:41 PM (Elapsed Time: 0.06 seconds)<br/><style>.rendered_html td, .rendered_html th {text-align: left;}.rendered_html tbody {border: 1px solid black;}</style>"
      ],
      "text/plain": [
       "<Result 'C:\\\\Users\\\\Cole\\\\Desktop\\\\Spring2022\\\\AVLResearch\\\\Data\\\\Linear_Ref_Files\\\\out.shp'>"
      ]
     },
     "execution_count": 1,
     "metadata": {},
     "output_type": "execute_result"
    }
   ],
   "source": [
    "import arcpy\n",
    "arcpy.env.workspace = r'C:\\Users\\Cole\\Desktop\\Spring2022\\AVLResearch\\Data\\Linear_Ref_Files\\LRF.gdb'\n",
    "\n",
    "# Set local variables\n",
    "rt = \"RouteN\"  \n",
    "rid = \"shape_id\" \n",
    "tbl = \"locate_events_N\"\n",
    "props = \"shape_id POINT mp\" \n",
    "lyr = r'C:\\Users\\Cole\\Desktop\\Spring2022\\AVLResearch\\Data\\Linear_Ref_Files\\out.shp'\n",
    "\n",
    "# Execute MakeRouteEventLayer\n",
    "x = arcpy.MakeRouteEventLayer_lr(rt, rid, tbl, props, lyr, \"#\", \"ERROR_FIELD\")\n",
    "x"
   ]
  }
 ],
 "metadata": {
  "kernelspec": {
   "display_name": "Python 3",
   "language": "python",
   "name": "python3"
  },
  "language_info": {
   "codemirror_mode": {
    "name": "ipython",
    "version": 3
   },
   "file_extension": ".py",
   "mimetype": "text/x-python",
   "name": "python",
   "nbconvert_exporter": "python",
   "pygments_lexer": "ipython3",
   "version": "3.7.9"
  }
 },
 "nbformat": 4,
 "nbformat_minor": 5
}
